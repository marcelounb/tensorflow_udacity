{
  "nbformat": 4,
  "nbformat_minor": 0,
  "metadata": {
    "colab": {
      "name": "02_fashion_mnist_CNNs_my_way.ipynb",
      "provenance": [],
      "collapsed_sections": [],
      "authorship_tag": "ABX9TyPcDPZRFI80EavusQSzvcJk",
      "include_colab_link": true
    },
    "kernelspec": {
      "name": "python3",
      "display_name": "Python 3"
    }
  },
  "cells": [
    {
      "cell_type": "markdown",
      "metadata": {
        "id": "view-in-github",
        "colab_type": "text"
      },
      "source": [
        "<a href=\"https://colab.research.google.com/github/marcelounb/tensorflow_udacity/blob/master/02_fashion_mnist_CNNs_my_way.ipynb\" target=\"_parent\"><img src=\"https://colab.research.google.com/assets/colab-badge.svg\" alt=\"Open In Colab\"/></a>"
      ]
    },
    {
      "cell_type": "code",
      "metadata": {
        "id": "gmdUD7x0Mfy0",
        "colab_type": "code",
        "colab": {}
      },
      "source": [
        "from keras.datasets import fashion_mnist\n",
        "import matplotlib.pyplot as plt\n",
        "import numpy as np\n",
        "import math\n",
        "from keras.models import Sequential \n",
        "from keras.layers import Dense \n",
        "from keras.layers import Dropout \n",
        "from keras.utils import np_utils\n",
        "from keras.utils import to_categorical\n",
        "from keras.optimizers import SGD\n",
        "\n",
        "# Imports for the CNN\n",
        "from keras.layers import Flatten \n",
        "from keras.layers.convolutional import Convolution2D \n",
        "from keras.layers.convolutional import MaxPooling2D\n",
        "from keras import backend as K \n",
        "from random import randrange"
      ],
      "execution_count": 16,
      "outputs": []
    },
    {
      "cell_type": "code",
      "metadata": {
        "id": "11oqwmkaMqW7",
        "colab_type": "code",
        "colab": {}
      },
      "source": [
        "import tensorflow as tf\n",
        "import logging\n",
        "logger = tf.get_logger()\n",
        "logger.setLevel(logging.ERROR)"
      ],
      "execution_count": 2,
      "outputs": []
    },
    {
      "cell_type": "markdown",
      "metadata": {
        "id": "d0eFSSOfALXn",
        "colab_type": "text"
      },
      "source": [
        "# Loading Data (baixando data)"
      ]
    },
    {
      "cell_type": "code",
      "metadata": {
        "id": "fw7iLddz44Pt",
        "colab_type": "code",
        "colab": {
          "base_uri": "https://localhost:8080/",
          "height": 159
        },
        "outputId": "53724eea-89d6-43e4-e6f9-5e4a3d016211"
      },
      "source": [
        "# load (downloaded if needed) the MNIST dataset \n",
        "(X_train, y_train), (X_test, y_test) = fashion_mnist.load_data()"
      ],
      "execution_count": 3,
      "outputs": [
        {
          "output_type": "stream",
          "text": [
            "Downloading data from https://storage.googleapis.com/tensorflow/tf-keras-datasets/train-labels-idx1-ubyte.gz\n",
            "32768/29515 [=================================] - 0s 0us/step\n",
            "Downloading data from https://storage.googleapis.com/tensorflow/tf-keras-datasets/train-images-idx3-ubyte.gz\n",
            "26427392/26421880 [==============================] - 1s 0us/step\n",
            "Downloading data from https://storage.googleapis.com/tensorflow/tf-keras-datasets/t10k-labels-idx1-ubyte.gz\n",
            "8192/5148 [===============================================] - 0s 0us/step\n",
            "Downloading data from https://storage.googleapis.com/tensorflow/tf-keras-datasets/t10k-images-idx3-ubyte.gz\n",
            "4423680/4422102 [==============================] - 0s 0us/step\n"
          ],
          "name": "stdout"
        }
      ]
    },
    {
      "cell_type": "code",
      "metadata": {
        "id": "cng7UPuq5uUQ",
        "colab_type": "code",
        "colab": {
          "base_uri": "https://localhost:8080/",
          "height": 70
        },
        "outputId": "1d8fdc91-8869-41c3-b457-27493ee4a89d"
      },
      "source": [
        "print(\"Number of training examples: {}\".format(len(X_train)))\n",
        "print(\"Number of test examples:     {}\".format(len(X_test)))\n",
        "X_train.shape, y_train.shape ,X_test.shape, y_test.shape"
      ],
      "execution_count": 4,
      "outputs": [
        {
          "output_type": "stream",
          "text": [
            "Number of training examples: 60000\n",
            "Number of test examples:     10000\n"
          ],
          "name": "stdout"
        },
        {
          "output_type": "execute_result",
          "data": {
            "text/plain": [
              "((60000, 28, 28), (60000,), (10000, 28, 28), (10000,))"
            ]
          },
          "metadata": {
            "tags": []
          },
          "execution_count": 4
        }
      ]
    },
    {
      "cell_type": "code",
      "metadata": {
        "id": "CJQVGA2G2ViD",
        "colab_type": "code",
        "colab": {
          "base_uri": "https://localhost:8080/",
          "height": 70
        },
        "outputId": "ed98add6-812b-49cc-8f21-15f0d7ea6a7d"
      },
      "source": [
        "# reshape dataset to have a single channel\n",
        "X_train = X_train.reshape((X_train.shape[0], 28, 28, 1))\n",
        "X_test = X_test.reshape((X_test.shape[0], 28, 28, 1))\n",
        "print(\"Number of training examples: {}\".format(len(X_train)))\n",
        "print(\"Number of test examples:     {}\".format(len(X_test)))\n",
        "X_train.shape, y_train.shape ,X_test.shape, y_test.shape"
      ],
      "execution_count": 5,
      "outputs": [
        {
          "output_type": "stream",
          "text": [
            "Number of training examples: 60000\n",
            "Number of test examples:     10000\n"
          ],
          "name": "stdout"
        },
        {
          "output_type": "execute_result",
          "data": {
            "text/plain": [
              "((60000, 28, 28, 1), (60000,), (10000, 28, 28, 1), (10000,))"
            ]
          },
          "metadata": {
            "tags": []
          },
          "execution_count": 5
        }
      ]
    },
    {
      "cell_type": "code",
      "metadata": {
        "id": "jm-s-P1C2cpT",
        "colab_type": "code",
        "colab": {}
      },
      "source": [
        "# one hot encode target values\n",
        "y_train = to_categorical(y_train)\n",
        "y_test = to_categorical(y_test)"
      ],
      "execution_count": 6,
      "outputs": []
    },
    {
      "cell_type": "code",
      "metadata": {
        "id": "mdanz2di3FJK",
        "colab_type": "code",
        "colab": {
          "base_uri": "https://localhost:8080/",
          "height": 35
        },
        "outputId": "d593d448-5467-4991-a4dd-b1dfb045b99c"
      },
      "source": [
        "X_train.shape, y_train.shape ,X_test.shape, y_test.shape"
      ],
      "execution_count": 7,
      "outputs": [
        {
          "output_type": "execute_result",
          "data": {
            "text/plain": [
              "((60000, 28, 28, 1), (60000, 10), (10000, 28, 28, 1), (10000, 10))"
            ]
          },
          "metadata": {
            "tags": []
          },
          "execution_count": 7
        }
      ]
    },
    {
      "cell_type": "code",
      "metadata": {
        "id": "5UsD83T15mFA",
        "colab_type": "code",
        "colab": {}
      },
      "source": [
        "# scale pixels\n",
        "# convert from integers to floats\n",
        "X_train_norm = X_train.astype('float32')\n",
        "X_test_norm = X_test.astype('float32')\n",
        "# normalize to range 0-1\n",
        "X_train_norm = X_train_norm / 255.0\n",
        "X_test_norm = X_test_norm / 255.0"
      ],
      "execution_count": 8,
      "outputs": []
    },
    {
      "cell_type": "markdown",
      "metadata": {
        "id": "IraNCkyq1hXX",
        "colab_type": "text"
      },
      "source": [
        "# Building the model"
      ]
    },
    {
      "cell_type": "code",
      "metadata": {
        "id": "jQtPFhPXR37d",
        "colab_type": "code",
        "colab": {}
      },
      "source": [
        "def baseline_model(): \n",
        "  # create model \n",
        "  model = Sequential() \n",
        "  model.add(Flatten(input_shape=(28,28,1)))\n",
        "  model.add(Dense(128, activation= 'relu' )) \n",
        "  model.add(Dense(10, activation= 'softmax' )) \n",
        "\n",
        "  # Compile model \n",
        "  model.compile(loss= 'sparse_categorical_crossentropy' , optimizer= 'adam' , metrics=[ 'accuracy' ]) \n",
        "  return model"
      ],
      "execution_count": 9,
      "outputs": []
    },
    {
      "cell_type": "code",
      "metadata": {
        "id": "pKL3OCBB1at4",
        "colab_type": "code",
        "colab": {}
      },
      "source": [
        "def cnn_model():\n",
        "  # create model \n",
        "  model = Sequential() \n",
        "  model.add(Convolution2D(32, (3, 3), input_shape=(28, 28, 1), activation= 'relu' )) \n",
        "  model.add(MaxPooling2D(pool_size=(2, 2), strides=2)) \n",
        "  model.add(Convolution2D(64, (3, 3), padding='same', activation='relu' )) \n",
        "  model.add(MaxPooling2D(pool_size=(2, 2), strides=2))  \n",
        "  model.add(Flatten()) \n",
        "  model.add(Dense(128, activation= 'relu' )) \n",
        "  model.add(Dense(10, activation= 'softmax' ))\n",
        "\n",
        "  # Compile model \n",
        "  model.compile(loss= 'sparse_categorical_crossentropy' , optimizer= 'adam' , metrics=[ 'accuracy' ]) \n",
        "  return model"
      ],
      "execution_count": 10,
      "outputs": []
    },
    {
      "cell_type": "code",
      "metadata": {
        "id": "5R0MJFQ3TQpz",
        "colab_type": "code",
        "colab": {}
      },
      "source": [
        "def cnn_model_my_way():\n",
        "  # create model \n",
        "  model = Sequential() \n",
        "  model.add(Convolution2D(32, (3, 3), kernel_initializer='he_uniform' ,input_shape=(28, 28, 1), activation= 'relu' )) \n",
        "  model.add(MaxPooling2D((2, 2)))\n",
        "  model.add(Flatten())\n",
        "  model.add(Dense(100, activation='relu', kernel_initializer='he_uniform'))\n",
        "  model.add(Dense(10, activation='softmax'))\n",
        "\n",
        "\n",
        "  # Compile model \n",
        "  model.compile(loss= 'categorical_crossentropy' , optimizer= 'adam' , metrics=[ 'accuracy' ]) \n",
        "  return model"
      ],
      "execution_count": 20,
      "outputs": []
    },
    {
      "cell_type": "code",
      "metadata": {
        "id": "CKs1dWhSYtSJ",
        "colab_type": "code",
        "colab": {}
      },
      "source": [
        "def define_model():\n",
        "\tmodel = Sequential()\n",
        "\tmodel.add(Convolution2D(32, (3, 3), activation='relu', kernel_initializer='he_uniform', input_shape=(28, 28, 1)))\n",
        "\tmodel.add(MaxPooling2D((2, 2)))\n",
        "\tmodel.add(Flatten())\n",
        "\tmodel.add(Dense(100, activation='relu', kernel_initializer='he_uniform'))\n",
        "\tmodel.add(Dense(10, activation='softmax'))\n",
        "\t# compile model\n",
        "\topt = SGD(lr=0.01, momentum=0.9)\n",
        "\tmodel.compile(optimizer=opt, loss='categorical_crossentropy', metrics=['accuracy'])\n",
        "\treturn model"
      ],
      "execution_count": 17,
      "outputs": []
    },
    {
      "cell_type": "markdown",
      "metadata": {
        "id": "_E391WQYU4Ts",
        "colab_type": "text"
      },
      "source": [
        "# Fitting the model - My way around"
      ]
    },
    {
      "cell_type": "code",
      "metadata": {
        "id": "Seoh-_XBTmUF",
        "colab_type": "code",
        "colab": {
          "base_uri": "https://localhost:8080/",
          "height": 372
        },
        "outputId": "e80a1b7d-22eb-4099-cff6-f92eed0fa7d3"
      },
      "source": [
        "# build the model \n",
        "model = define_model() \n",
        "# K.set_image_data_format('channels_first')\n",
        "# Fit the model \n",
        "history = model.fit(X_train_norm, y_train, validation_data=(X_test_norm, y_test), epochs=10, batch_size=200, verbose=2)"
      ],
      "execution_count": 18,
      "outputs": [
        {
          "output_type": "stream",
          "text": [
            "Epoch 1/10\n",
            "300/300 - 22s - loss: 0.5335 - accuracy: 0.8135 - val_loss: 0.4530 - val_accuracy: 0.8321\n",
            "Epoch 2/10\n",
            "300/300 - 22s - loss: 0.3712 - accuracy: 0.8703 - val_loss: 0.3704 - val_accuracy: 0.8701\n",
            "Epoch 3/10\n",
            "300/300 - 22s - loss: 0.3299 - accuracy: 0.8834 - val_loss: 0.3548 - val_accuracy: 0.8723\n",
            "Epoch 4/10\n",
            "300/300 - 22s - loss: 0.2984 - accuracy: 0.8943 - val_loss: 0.3194 - val_accuracy: 0.8844\n",
            "Epoch 5/10\n",
            "300/300 - 22s - loss: 0.2781 - accuracy: 0.8994 - val_loss: 0.3180 - val_accuracy: 0.8843\n",
            "Epoch 6/10\n",
            "300/300 - 22s - loss: 0.2607 - accuracy: 0.9066 - val_loss: 0.2911 - val_accuracy: 0.8938\n",
            "Epoch 7/10\n",
            "300/300 - 22s - loss: 0.2465 - accuracy: 0.9125 - val_loss: 0.2843 - val_accuracy: 0.8948\n",
            "Epoch 8/10\n",
            "300/300 - 22s - loss: 0.2313 - accuracy: 0.9172 - val_loss: 0.2768 - val_accuracy: 0.8984\n",
            "Epoch 9/10\n",
            "300/300 - 22s - loss: 0.2209 - accuracy: 0.9201 - val_loss: 0.2880 - val_accuracy: 0.8961\n",
            "Epoch 10/10\n",
            "300/300 - 22s - loss: 0.2125 - accuracy: 0.9240 - val_loss: 0.2683 - val_accuracy: 0.9021\n"
          ],
          "name": "stdout"
        }
      ]
    },
    {
      "cell_type": "code",
      "metadata": {
        "id": "sg2lJAM9czA6",
        "colab_type": "code",
        "colab": {
          "base_uri": "https://localhost:8080/",
          "height": 372
        },
        "outputId": "0233d03a-f211-4cf3-a378-85e70bb37caa"
      },
      "source": [
        "# build the model \n",
        "model2 = cnn_model_my_way() \n",
        "# K.set_image_data_format('channels_first')\n",
        "# Fit the model \n",
        "history2 = model2.fit(X_train_norm, y_train, validation_data=(X_test_norm, y_test), epochs=10, batch_size=200, verbose=2)"
      ],
      "execution_count": 21,
      "outputs": [
        {
          "output_type": "stream",
          "text": [
            "Epoch 1/10\n",
            "300/300 - 22s - loss: 0.4497 - accuracy: 0.8435 - val_loss: 0.4422 - val_accuracy: 0.8513\n",
            "Epoch 2/10\n",
            "300/300 - 22s - loss: 0.2910 - accuracy: 0.8962 - val_loss: 0.2956 - val_accuracy: 0.8914\n",
            "Epoch 3/10\n",
            "300/300 - 22s - loss: 0.2466 - accuracy: 0.9116 - val_loss: 0.2821 - val_accuracy: 0.8978\n",
            "Epoch 4/10\n",
            "300/300 - 22s - loss: 0.2197 - accuracy: 0.9204 - val_loss: 0.2636 - val_accuracy: 0.9027\n",
            "Epoch 5/10\n",
            "300/300 - 22s - loss: 0.1964 - accuracy: 0.9292 - val_loss: 0.2603 - val_accuracy: 0.9059\n",
            "Epoch 6/10\n",
            "300/300 - 22s - loss: 0.1801 - accuracy: 0.9337 - val_loss: 0.2654 - val_accuracy: 0.9065\n",
            "Epoch 7/10\n",
            "300/300 - 22s - loss: 0.1645 - accuracy: 0.9401 - val_loss: 0.2609 - val_accuracy: 0.9068\n",
            "Epoch 8/10\n",
            "300/300 - 22s - loss: 0.1524 - accuracy: 0.9448 - val_loss: 0.2587 - val_accuracy: 0.9112\n",
            "Epoch 9/10\n",
            "300/300 - 22s - loss: 0.1396 - accuracy: 0.9488 - val_loss: 0.2634 - val_accuracy: 0.9091\n",
            "Epoch 10/10\n",
            "300/300 - 22s - loss: 0.1256 - accuracy: 0.9547 - val_loss: 0.2671 - val_accuracy: 0.9075\n"
          ],
          "name": "stdout"
        }
      ]
    }
  ]
}
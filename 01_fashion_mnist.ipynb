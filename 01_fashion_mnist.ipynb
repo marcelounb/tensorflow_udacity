{
  "nbformat": 4,
  "nbformat_minor": 0,
  "metadata": {
    "colab": {
      "name": "01_fashion_mnist.ipynb",
      "provenance": [],
      "authorship_tag": "ABX9TyORqJK/VfPWTcf1wmlHq0Cr",
      "include_colab_link": true
    },
    "kernelspec": {
      "name": "python3",
      "display_name": "Python 3"
    }
  },
  "cells": [
    {
      "cell_type": "markdown",
      "metadata": {
        "id": "view-in-github",
        "colab_type": "text"
      },
      "source": [
        "<a href=\"https://colab.research.google.com/github/marcelounb/tensorflow_udacity/blob/master/01_fashion_mnist.ipynb\" target=\"_parent\"><img src=\"https://colab.research.google.com/assets/colab-badge.svg\" alt=\"Open In Colab\"/></a>"
      ]
    },
    {
      "cell_type": "code",
      "metadata": {
        "id": "8_L0LRfAICoQ",
        "colab_type": "code",
        "colab": {}
      },
      "source": [
        "from keras.datasets import fashion_mnist\n",
        "import matplotlib.pyplot as plt\n",
        "import numpy as np\n",
        "import math\n",
        "from keras.models import Sequential \n",
        "from keras.layers import Dense \n",
        "from keras.layers import Dropout \n",
        "from keras.utils import np_utils\n",
        "\n",
        "# Imports for the CNN\n",
        "from keras.layers import Flatten \n",
        "from keras.layers.convolutional import Convolution2D \n",
        "from keras.layers.convolutional import MaxPooling2D\n",
        "from keras import backend as K \n",
        "K.set_image_data_format('channels_first')"
      ],
      "execution_count": 35,
      "outputs": []
    },
    {
      "cell_type": "code",
      "metadata": {
        "id": "914gLnWMRj-r",
        "colab_type": "code",
        "colab": {}
      },
      "source": [
        "import tensorflow as tf\n",
        "import logging\n",
        "logger = tf.get_logger()\n",
        "logger.setLevel(logging.ERROR)"
      ],
      "execution_count": 37,
      "outputs": []
    },
    {
      "cell_type": "markdown",
      "metadata": {
        "id": "vuJJA0cQTG15",
        "colab_type": "text"
      },
      "source": [
        "# My import of the fashion mnist dataset\n"
      ]
    },
    {
      "cell_type": "code",
      "metadata": {
        "id": "INqdQobnLGvA",
        "colab_type": "code",
        "colab": {}
      },
      "source": [
        "(X_train, y_train), (X_test, y_test)= fashion_mnist.load_data()"
      ],
      "execution_count": 16,
      "outputs": []
    },
    {
      "cell_type": "code",
      "metadata": {
        "id": "kdbm_BiRNXH2",
        "colab_type": "code",
        "colab": {
          "base_uri": "https://localhost:8080/",
          "height": 35
        },
        "outputId": "6a3837c9-837c-45ad-fb3c-628d9f885c3a"
      },
      "source": [
        "X_train.shape, \"----\", X_test.shape"
      ],
      "execution_count": 21,
      "outputs": [
        {
          "output_type": "execute_result",
          "data": {
            "text/plain": [
              "((60000, 28, 28), '----', (10000, 28, 28))"
            ]
          },
          "metadata": {
            "tags": []
          },
          "execution_count": 21
        }
      ]
    },
    {
      "cell_type": "code",
      "metadata": {
        "id": "3m7HB9DcKUm4",
        "colab_type": "code",
        "colab": {
          "base_uri": "https://localhost:8080/",
          "height": 35
        },
        "outputId": "0a705df7-36f6-437b-c66b-486e7fad2a4e"
      },
      "source": [
        "y_train.shape, \"----\", y_test.shape"
      ],
      "execution_count": 22,
      "outputs": [
        {
          "output_type": "execute_result",
          "data": {
            "text/plain": [
              "((60000,), '----', (10000,))"
            ]
          },
          "metadata": {
            "tags": []
          },
          "execution_count": 22
        }
      ]
    },
    {
      "cell_type": "code",
      "metadata": {
        "id": "pK9kYwvOQu9o",
        "colab_type": "code",
        "colab": {
          "base_uri": "https://localhost:8080/",
          "height": 35
        },
        "outputId": "0fe1e6e0-97bb-47e2-a22e-69fe1cee36ef"
      },
      "source": [
        "from random import randrange\n",
        "print (randrange(0,60000))"
      ],
      "execution_count": 28,
      "outputs": [
        {
          "output_type": "stream",
          "text": [
            "4858\n"
          ],
          "name": "stdout"
        }
      ]
    },
    {
      "cell_type": "code",
      "metadata": {
        "id": "w3IkP9FgQnRi",
        "colab_type": "code",
        "colab": {
          "base_uri": "https://localhost:8080/",
          "height": 268
        },
        "outputId": "65ce521f-f9f5-4a4f-a64b-98098277912a"
      },
      "source": [
        "# plot 4 images as gray scale \n",
        "plt.subplot(221) \n",
        "plt.imshow(X_train[randrange(0,60000)], cmap=plt.get_cmap( 'gray' )) \n",
        "plt.subplot(222) \n",
        "plt.imshow(X_train[randrange(0,60000)], cmap=plt.get_cmap( 'gray' )) \n",
        "plt.subplot(223) \n",
        "plt.imshow(X_train[randrange(0,60000)], cmap=plt.get_cmap( 'gray' )) \n",
        "plt.subplot(224) \n",
        "plt.imshow(X_train[randrange(0,60000)], cmap=plt.get_cmap( 'gray' ))\n",
        "# show the plot \n",
        "plt.show()"
      ],
      "execution_count": 34,
      "outputs": [
        {
          "output_type": "display_data",
          "data": {
            "image/png": "[encoded data removed]",
            "text/plain": [
              "<Figure size 432x288 with 4 Axes>"
            ]
          },
          "metadata": {
            "tags": [],
            "needs_background": "light"
          }
        }
      ]
    },
    {
      "cell_type": "markdown",
      "metadata": {
        "id": "d_2vrHcLTQFs",
        "colab_type": "text"
      },
      "source": [
        "# Udacity Tensorflow import of the fashion mnist dataset"
      ]
    },
    {
      "cell_type": "code",
      "metadata": {
        "id": "vAKcfaiTTVjL",
        "colab_type": "code",
        "colab": {}
      },
      "source": [
        "import tensorflow_datasets as tfds\n",
        "dataset, metadata = tfds.load('fashion_mnist', as_supervised=True, with_info=True)\n",
        "train_dataset, test_dataset = dataset['train'], dataset['test']"
      ],
      "execution_count": 43,
      "outputs": []
    },
    {
      "cell_type": "code",
      "metadata": {
        "id": "_mV2xSDSTw3C",
        "colab_type": "code",
        "colab": {}
      },
      "source": [
        "class_names = ['T-shirt/top', 'Trouser', 'Pullover', 'Dress', 'Coat',\n",
        "               'Sandal',      'Shirt',   'Sneaker',  'Bag',   'Ankle boot']"
      ],
      "execution_count": 44,
      "outputs": []
    },
    {
      "cell_type": "code",
      "metadata": {
        "id": "1SidbQc9UBMV",
        "colab_type": "code",
        "colab": {
          "base_uri": "https://localhost:8080/",
          "height": 52
        },
        "outputId": "35cce8be-291b-4395-b20c-7490814ad8d9"
      },
      "source": [
        "num_train_examples = metadata.splits['train'].num_examples\n",
        "num_test_examples = metadata.splits['test'].num_examples\n",
        "print(\"Number of training examples: {}\".format(num_train_examples))\n",
        "print(\"Number of test examples:     {}\".format(num_test_examples))"
      ],
      "execution_count": 45,
      "outputs": [
        {
          "output_type": "stream",
          "text": [
            "Number of training examples: 60000\n",
            "Number of test examples:     10000\n"
          ],
          "name": "stdout"
        }
      ]
    },
    {
      "cell_type": "code",
      "metadata": {
        "id": "1JZayD-MUBvD",
        "colab_type": "code",
        "colab": {}
      },
      "source": [
        ""
      ],
      "execution_count": null,
      "outputs": []
    }
  ]
}
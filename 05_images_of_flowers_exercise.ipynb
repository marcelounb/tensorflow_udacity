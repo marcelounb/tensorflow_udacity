{
  "nbformat": 4,
  "nbformat_minor": 0,
  "metadata": {
    "colab": {
      "name": "05 images of flowers exercise.ipynb",
      "provenance": [],
      "collapsed_sections": [],
      "authorship_tag": "ABX9TyP0yJnFE3TX6+qceGycsnAD",
      "include_colab_link": true
    },
    "kernelspec": {
      "name": "python3",
      "display_name": "Python 3"
    }
  },
  "cells": [
    {
      "cell_type": "markdown",
      "metadata": {
        "id": "view-in-github",
        "colab_type": "text"
      },
      "source": [
        "<a href=\"https://colab.research.google.com/github/marcelounb/tensorflow_udacity/blob/master/05_images_of_flowers_exercise.ipynb\" target=\"_parent\"><img src=\"https://colab.research.google.com/assets/colab-badge.svg\" alt=\"Open In Colab\"/></a>"
      ]
    },
    {
      "cell_type": "code",
      "metadata": {
        "id": "WGYfdkiqyL8w",
        "colab_type": "code",
        "colab": {}
      },
      "source": [
        "import tensorflow as tf\n",
        "import matplotlib.pyplot as plt\n",
        "import os\n",
        "import numpy as np\n",
        "import glob\n",
        "import shutil\n",
        "import math"
      ],
      "execution_count": 1,
      "outputs": []
    },
    {
      "cell_type": "code",
      "metadata": {
        "id": "6PLlup6ZzKcd",
        "colab_type": "code",
        "colab": {}
      },
      "source": [
        "from keras.models import Sequential\n",
        "from keras.layers import Dense\n",
        "from keras.layers import Dropout\n",
        "from keras.layers import Flatten\n",
        "\n",
        "from keras.layers.convolutional import Convolution2D \n",
        "from keras.layers.convolutional import MaxPooling2D\n",
        "\n",
        "from keras.utils import np_utils\n",
        "from keras.utils import to_categorical"
      ],
      "execution_count": 2,
      "outputs": []
    },
    {
      "cell_type": "markdown",
      "metadata": {
        "id": "8DrQkT30--tB",
        "colab_type": "text"
      },
      "source": [
        "# Data Loading\n",
        "In order to build our image classifier, we can begin by downloading the flowers dataset. We first need to download the archive version of the dataset and after the download we are storing it to \"/tmp/\" directory.\n",
        "\n",
        "After downloading the dataset, we need to extract its contents."
      ]
    },
    {
      "cell_type": "code",
      "metadata": {
        "id": "wGhgApyazr7f",
        "colab_type": "code",
        "colab": {
          "base_uri": "https://localhost:8080/",
          "height": 52
        },
        "outputId": "d53cc28e-0331-40b4-b339-b648bb562fe4"
      },
      "source": [
        "URL = \"https://storage.googleapis.com/download.tensorflow.org/example_images/flower_photos.tgz\"\n",
        "zip_file = tf.keras.utils.get_file(fname=\"flower_photos.tgz\", origin=URL, extract=True)"
      ],
      "execution_count": 3,
      "outputs": [
        {
          "output_type": "stream",
          "text": [
            "Downloading data from https://storage.googleapis.com/download.tensorflow.org/example_images/flower_photos.tgz\n",
            "228818944/228813984 [==============================] - 3s 0us/step\n"
          ],
          "name": "stdout"
        }
      ]
    },
    {
      "cell_type": "code",
      "metadata": {
        "id": "Nvmcxv_QGdRX",
        "colab_type": "code",
        "colab": {}
      },
      "source": [
        "base_dir = os.path.join(os.path.dirname(zip_file), 'flower_photos')"
      ],
      "execution_count": 4,
      "outputs": []
    },
    {
      "cell_type": "code",
      "metadata": {
        "id": "kEuZ7nHJPu8E",
        "colab_type": "code",
        "colab": {
          "base_uri": "https://localhost:8080/",
          "height": 36
        },
        "outputId": "2e32006e-55da-4c91-f32b-0c647e46e5de"
      },
      "source": [
        "base_dir"
      ],
      "execution_count": 6,
      "outputs": [
        {
          "output_type": "execute_result",
          "data": {
            "application/vnd.google.colaboratory.intrinsic+json": {
              "type": "string"
            },
            "text/plain": [
              "'/root/.keras/datasets/flower_photos'"
            ]
          },
          "metadata": {
            "tags": []
          },
          "execution_count": 6
        }
      ]
    },
    {
      "cell_type": "markdown",
      "metadata": {
        "id": "Tb3SuWjvGhT9",
        "colab_type": "text"
      },
      "source": [
        "The dataset we downloaded contains images of 5 types of flowers:\n",
        "\n",
        " .  Rose\n",
        "\n",
        " .  Daisy\n",
        "\n",
        " .  Dandelion\n",
        "\n",
        " .  Sunflowers\n",
        "\n",
        " .  Tulips\n",
        " \n",
        "So, let's create the labels for these 5 classes:"
      ]
    },
    {
      "cell_type": "code",
      "metadata": {
        "id": "MSVF63T2Gd1k",
        "colab_type": "code",
        "colab": {}
      },
      "source": [
        "classes = ['roses', 'daisy', 'dandelion', 'sunflowers', 'tulips']"
      ],
      "execution_count": 7,
      "outputs": []
    },
    {
      "cell_type": "code",
      "metadata": {
        "id": "cZ87WyN4PrJD",
        "colab_type": "code",
        "colab": {
          "base_uri": "https://localhost:8080/",
          "height": 124
        },
        "outputId": "e1a44d24-b805-4a7a-d5ce-5e15daf2d89c"
      },
      "source": [
        "!find $base_dir -type d"
      ],
      "execution_count": 13,
      "outputs": [
        {
          "output_type": "stream",
          "text": [
            "/root/.keras/datasets/flower_photos\n",
            "/root/.keras/datasets/flower_photos/sunflowers\n",
            "/root/.keras/datasets/flower_photos/roses\n",
            "/root/.keras/datasets/flower_photos/daisy\n",
            "/root/.keras/datasets/flower_photos/tulips\n",
            "/root/.keras/datasets/flower_photos/dandelion\n"
          ],
          "name": "stdout"
        }
      ]
    },
    {
      "cell_type": "code",
      "metadata": {
        "id": "aKtytm_7c6n1",
        "colab_type": "code",
        "colab": {
          "base_uri": "https://localhost:8080/",
          "height": 106
        },
        "outputId": "d1797f5c-d108-438b-9f26-bb640a131967"
      },
      "source": [
        "num_sunflowers = len(os.listdir('/root/.keras/datasets/flower_photos/sunflowers'))\n",
        "num_roses = len(os.listdir('/root/.keras/datasets/flower_photos/roses'))\n",
        "num_daisy = len(os.listdir('/root/.keras/datasets/flower_photos/dandelion'))\n",
        "num_tulips = len(os.listdir('/root/.keras/datasets/flower_photos/tulips'))\n",
        "num_dandelion = len(os.listdir('/root/.keras/datasets/flower_photos/dandelion'))\n",
        "print(f'Directory Sunflowers: {num_sunflowers}')\n",
        "print(f'Directory Roses: {num_roses}')\n",
        "print(f'Directory Daisy: {num_daisy}')\n",
        "print(f'Directory Tulips: {num_tulips}')\n",
        "print(f'Directory Dandelion: {num_dandelion}')"
      ],
      "execution_count": 17,
      "outputs": [
        {
          "output_type": "stream",
          "text": [
            "Directory Sunflowers: 699\n",
            "Directory Roses: 641\n",
            "Directory Daisy: 898\n",
            "Directory Tulips: 799\n",
            "Directory Dandelion: 898\n"
          ],
          "name": "stdout"
        }
      ]
    },
    {
      "cell_type": "markdown",
      "metadata": {
        "id": "vnHemMqCcjoW",
        "colab_type": "text"
      },
      "source": [
        "As you can see there are no folders containing training and validation data. Therefore, we will have to create our own training and validation set. Let's write some code that will do this.\n",
        "\n",
        "The code below creates a train and a val folder each containing 5 folders (one for each type of flower). It then moves the images from the original folders to these new folders such that 80% of the images go to the training set and 20% of the images go into the validation set. In the end our directory will have the following structure:\n",
        "\n",
        "flower_photos\n",
        "\n",
        "|__ diasy\n",
        "\n",
        "|__ dandelion\n",
        "\n",
        "|__ roses\n",
        "\n",
        "|__ sunflowers\n",
        "\n",
        "|__ tulips\n",
        "\n",
        "|__ train\n",
        "\n",
        "    |______ daisy: [1.jpg, 2.jpg, 3.jpg ....]\n",
        "\n",
        "    |______ dandelion: [1.jpg, 2.jpg, 3.jpg ....]\n",
        "\n",
        "    |______ roses: [1.jpg, 2.jpg, 3.jpg ....]\n",
        "\n",
        "    |______ sunflowers: [1.jpg, 2.jpg, 3.jpg ....]\n",
        "\n",
        "    |______ tulips: [1.jpg, 2.jpg, 3.jpg ....]\n",
        "\n",
        " |__ val\n",
        "\n",
        "    |______ daisy: [507.jpg, 508.jpg, 509.jpg ....]\n",
        "\n",
        "    |______ dandelion: [719.jpg, 720.jpg, 721.jpg ....]\n",
        "\n",
        "    |______ roses: [514.jpg, 515.jpg, 516.jpg ....]\n",
        "\n",
        "    |______ sunflowers: [560.jpg, 561.jpg, 562.jpg .....]\n",
        "\n",
        "    |______ tulips: [640.jpg, 641.jpg, 642.jpg ....]\n",
        "\n",
        "\n",
        "\n",
        "Since we don't delete the original folders, they will still be in our flower_photos directory, but they will be empty. The code below also prints the total number of flower images we have for each type of flower."
      ]
    },
    {
      "cell_type": "code",
      "metadata": {
        "id": "6F9CqDzCcW-O",
        "colab_type": "code",
        "colab": {
          "base_uri": "https://localhost:8080/",
          "height": 106
        },
        "outputId": "2bab72a0-cb5d-4965-b20b-d41709a9c610"
      },
      "source": [
        "for cl in classes:\n",
        "  img_path = os.path.join(base_dir, cl)\n",
        "  images = glob.glob(img_path + '/*.jpg')\n",
        "  print(\"{}: {} Images\".format(cl, len(images)))\n",
        "  train, val = images[:round(len(images)*0.8)], images[round(len(images)*0.8):]\n",
        "\n",
        "  for t in train:\n",
        "    if not os.path.exists(os.path.join(base_dir, 'train', cl)):\n",
        "      os.makedirs(os.path.join(base_dir, 'train', cl))\n",
        "    shutil.move(t, os.path.join(base_dir, 'train', cl))\n",
        "\n",
        "  for v in val:\n",
        "    if not os.path.exists(os.path.join(base_dir, 'val', cl)):\n",
        "      os.makedirs(os.path.join(base_dir, 'val', cl))\n",
        "    shutil.move(v, os.path.join(base_dir, 'val', cl))"
      ],
      "execution_count": 18,
      "outputs": [
        {
          "output_type": "stream",
          "text": [
            "roses: 641 Images\n",
            "daisy: 633 Images\n",
            "dandelion: 898 Images\n",
            "sunflowers: 699 Images\n",
            "tulips: 799 Images\n"
          ],
          "name": "stdout"
        }
      ]
    },
    {
      "cell_type": "markdown",
      "metadata": {
        "id": "U21iLId9gh48",
        "colab_type": "text"
      },
      "source": [
        "For convenience, let us set up the path for the training and validation sets"
      ]
    },
    {
      "cell_type": "code",
      "metadata": {
        "id": "BMoqyisUfJ27",
        "colab_type": "code",
        "colab": {}
      },
      "source": [
        "train_dir = os.path.join(base_dir, 'train')\n",
        "val_dir = os.path.join(base_dir, 'val')"
      ],
      "execution_count": 20,
      "outputs": []
    },
    {
      "cell_type": "code",
      "metadata": {
        "id": "4Hv8tOumglx1",
        "colab_type": "code",
        "colab": {
          "base_uri": "https://localhost:8080/",
          "height": 248
        },
        "outputId": "c500102a-55c1-4ffb-9ef7-a4fdd9c52d81"
      },
      "source": [
        "print(\"Train Directory:\")\n",
        "for cl in classes:\n",
        "  img_path = os.path.join(train_dir, cl)\n",
        "  images = glob.glob(img_path + '/*.jpg')\n",
        "  print(\" |_{}: {} Images\".format(cl, len(images)))\n",
        "print(\"\")\n",
        "print(\"Validation Directory:\")\n",
        "for cl in classes:\n",
        "  img_path = os.path.join(val_dir, cl)\n",
        "  images = glob.glob(img_path + '/*.jpg')\n",
        "  print(\" |_{}: {} Images\".format(cl, len(images)))"
      ],
      "execution_count": 24,
      "outputs": [
        {
          "output_type": "stream",
          "text": [
            "Train Directory:\n",
            " |_roses: 513 Images\n",
            " |_daisy: 506 Images\n",
            " |_dandelion: 718 Images\n",
            " |_sunflowers: 559 Images\n",
            " |_tulips: 639 Images\n",
            "\n",
            "Validation Directory:\n",
            " |_roses: 128 Images\n",
            " |_daisy: 127 Images\n",
            " |_dandelion: 180 Images\n",
            " |_sunflowers: 140 Images\n",
            " |_tulips: 160 Images\n"
          ],
          "name": "stdout"
        }
      ]
    }
  ]
}